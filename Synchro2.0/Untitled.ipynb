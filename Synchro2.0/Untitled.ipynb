{
 "cells": [
  {
   "cell_type": "code",
   "execution_count": 16,
   "metadata": {},
   "outputs": [],
   "source": [
    "from empymod import bipole\n",
    "import numpy as np\n",
    "import matplotlib.pyplot as plt"
   ]
  },
  {
   "cell_type": "code",
   "execution_count": 3,
   "metadata": {},
   "outputs": [],
   "source": [
    "inp1 = {'src': [0, 0, 1, 0, 0], \n",
    "        'rec': [1000, 0, 1, 45, 10],\n",
    "        'depth': 0, 'res': [2e14, 100], 'freqtime': 2}"
   ]
  },
  {
   "cell_type": "code",
   "execution_count": 4,
   "metadata": {},
   "outputs": [
    {
     "name": "stdout",
     "output_type": "stream",
     "text": [
      "\n",
      ":: empymod END; runtime = 0:00:00.012536 :: 3 kernel call(s)\n",
      "\n"
     ]
    },
    {
     "data": {
      "text/plain": [
       "EMArray(2.20420712e-08-7.15386717e-10j)"
      ]
     },
     "execution_count": 4,
     "metadata": {},
     "output_type": "execute_result"
    }
   ],
   "source": [
    "bipole(**inp1)"
   ]
  },
  {
   "cell_type": "code",
   "execution_count": 14,
   "metadata": {},
   "outputs": [],
   "source": [
    "bri = [2e14, 20, 20, 20]\n",
    "oil = [2e14, 20, 500, 20]"
   ]
  },
  {
   "cell_type": "code",
   "execution_count": 6,
   "metadata": {},
   "outputs": [],
   "source": [
    "inp2 = {'src': [0, 0, 0.01, 0, 0],\n",
    "        'rec': [1000, 0, 0.01, 0, 0],\n",
    "        'depth': [0, 500, 525]}"
   ]
  },
  {
   "cell_type": "code",
   "execution_count": 11,
   "metadata": {},
   "outputs": [],
   "source": [
    "f = np.logspace(-1, 3, 100) "
   ]
  },
  {
   "cell_type": "code",
   "execution_count": 15,
   "metadata": {},
   "outputs": [
    {
     "name": "stdout",
     "output_type": "stream",
     "text": [
      "\n",
      ":: empymod END; runtime = 0:00:00.070990 :: 1 kernel call(s)\n",
      "\n",
      "\n",
      ":: empymod END; runtime = 0:00:00.056580 :: 1 kernel call(s)\n",
      "\n"
     ]
    }
   ],
   "source": [
    "fbres = bipole(res=bri, freqtime=f, **inp2)\n",
    "fores = bipole(res=oil, freqtime=f, **inp2)"
   ]
  },
  {
   "cell_type": "code",
   "execution_count": 19,
   "metadata": {},
   "outputs": [
    {
     "data": {
      "text/plain": [
       "[<matplotlib.lines.Line2D at 0x21ca8da8788>]"
      ]
     },
     "execution_count": 19,
     "metadata": {},
     "output_type": "execute_result"
    },
    {
     "data": {
      "image/png": "[encoded data removed]",
      "text/plain": [
       "<Figure size 432x288 with 1 Axes>"
      ]
     },
     "metadata": {
      "needs_background": "light"
     },
     "output_type": "display_data"
    }
   ],
   "source": [
    "plt.loglog(1/f,fbres)\n",
    "plt.loglog(1/f,fores)"
   ]
  },
  {
   "cell_type": "code",
   "execution_count": 20,
   "metadata": {},
   "outputs": [
    {
     "data": {
      "text/plain": [
       "EMArray([6.36089962e-09-5.69699173e-11j, 6.36013903e-09-6.22203915e-11j,\n",
       "         6.35927079e-09-6.79376287e-11j, 6.35828004e-09-7.41604718e-11j,\n",
       "         6.35714992e-09-8.09305771e-11j, 6.35586131e-09-8.82925482e-11j,\n",
       "         6.35439263e-09-9.62940648e-11j, 6.35271943e-09-1.04986001e-10j,\n",
       "         6.35081412e-09-1.14422529e-10j, 6.34864558e-09-1.24661212e-10j,\n",
       "         6.34617869e-09-1.35763062e-10j, 6.34337394e-09-1.47792580e-10j,\n",
       "         6.34018688e-09-1.60817754e-10j, 6.33656758e-09-1.74910016e-10j,\n",
       "         6.33246002e-09-1.90144139e-10j, 6.32780148e-09-2.06598081e-10j,\n",
       "         6.32252178e-09-2.24352738e-10j, 6.31654258e-09-2.43491623e-10j,\n",
       "         6.30977653e-09-2.64100424e-10j, 6.30212647e-09-2.86266451e-10j,\n",
       "         6.29348453e-09-3.10077938e-10j, 6.28373119e-09-3.35623186e-10j,\n",
       "         6.27273436e-09-3.62989516e-10j, 6.26034840e-09-3.92262028e-10j,\n",
       "         6.24641323e-09-4.23522117e-10j, 6.23075337e-09-4.56845737e-10j,\n",
       "         6.21317710e-09-4.92301385e-10j, 6.19347577e-09-5.29947775e-10j,\n",
       "         6.17142309e-09-5.69831175e-10j, 6.14677483e-09-6.11982400e-10j,\n",
       "         6.11926857e-09-6.56413426e-10j, 6.08862391e-09-7.03113621e-10j,\n",
       "         6.05454304e-09-7.52045598e-10j, 6.01671181e-09-8.03140684e-10j,\n",
       "         5.97480142e-09-8.56294027e-10j, 5.92847081e-09-9.11359407e-10j,\n",
       "         5.87736990e-09-9.68143773e-10j, 5.82114386e-09-1.02640163e-09j,\n",
       "         5.75943841e-09-1.08582938e-09j, 5.69190642e-09-1.14605980e-09j,\n",
       "         5.61821589e-09-1.20665681e-09j, 5.53805942e-09-1.26711082e-09j,\n",
       "         5.45116523e-09-1.32683500e-09j, 5.35730987e-09-1.38516271e-09j,\n",
       "         5.25633250e-09-1.44134662e-09j, 5.14815076e-09-1.49455992e-09j,\n",
       "         5.03277800e-09-1.54390017e-09j, 4.91034157e-09-1.58839627e-09j,\n",
       "         4.78110187e-09-1.62701925e-09j, 4.64547133e-09-1.65869724e-09j,\n",
       "         4.50403285e-09-1.68233527e-09j, 4.35755642e-09-1.69684028e-09j,\n",
       "         4.20701300e-09-1.70115154e-09j, 4.05358407e-09-1.69427660e-09j,\n",
       "         3.89866546e-09-1.67533238e-09j, 3.74386361e-09-1.64359093e-09j,\n",
       "         3.59098262e-09-1.59852860e-09j, 3.44200039e-09-1.53987697e-09j,\n",
       "         3.29903217e-09-1.46767338e-09j, 3.16428068e-09-1.38230809e-09j,\n",
       "         3.03997204e-09-1.28456446e-09j, 2.92827494e-09-1.17564833e-09j,\n",
       "         2.83122470e-09-1.05720346e-09j, 2.75059334e-09-9.31299545e-10j,\n",
       "         2.68783455e-09-8.00406552e-10j, 2.64388028e-09-6.67361876e-10j,\n",
       "         2.61921655e-09-5.35193838e-10j, 2.61357804e-09-4.07196159e-10j,\n",
       "         2.62610191e-09-2.86498402e-10j, 2.65522340e-09-1.76220365e-10j,\n",
       "         2.69861593e-09-7.89349743e-11j, 2.75344630e-09+3.08099539e-12j,\n",
       "         2.81630972e-09+6.83188578e-11j, 2.88362022e-09+1.16289102e-10j,\n",
       "         2.95146376e-09+1.46655648e-10j, 3.01677083e-09+1.61356635e-10j,\n",
       "         3.07538280e-09+1.61453704e-10j, 3.12616382e-09+1.49880629e-10j,\n",
       "         3.16683040e-09+1.30825957e-10j, 3.19598510e-09+1.05617585e-10j,\n",
       "         3.21550334e-09+7.91666871e-11j, 3.22441821e-09+5.36551769e-11j,\n",
       "         3.22551291e-09+3.03627552e-11j, 3.22163669e-09+1.27594378e-11j,\n",
       "         3.21305073e-09-3.13590926e-13j, 3.20448955e-09-8.25268848e-12j,\n",
       "         3.19622239e-09-1.08365643e-11j, 3.18858230e-09-1.13759350e-11j,\n",
       "         3.18486579e-09-9.10790595e-12j, 3.18118466e-09-6.07917430e-12j,\n",
       "         3.17951355e-09-4.30376165e-12j, 3.18026520e-09-1.68656245e-12j,\n",
       "         3.17851765e-09-9.28629058e-13j, 3.18083394e-09-8.05754219e-13j,\n",
       "         3.18210840e-09+3.25311989e-13j, 3.18131363e-09-6.63436522e-13j,\n",
       "         3.19006904e-09-4.55893638e-13j, 3.18239718e-09+7.13366957e-14j,\n",
       "         3.18119509e-09-1.49044966e-12j, 3.18265318e-09-4.77958446e-13j])"
      ]
     },
     "execution_count": 20,
     "metadata": {},
     "output_type": "execute_result"
    }
   ],
   "source": [
    "fbres"
   ]
  },
  {
   "cell_type": "code",
   "execution_count": null,
   "metadata": {},
   "outputs": [],
   "source": []
  }
 ],
 "metadata": {
  "kernelspec": {
   "display_name": "Python 3",
   "language": "python",
   "name": "python3"
  },
  "language_info": {
   "codemirror_mode": {
    "name": "ipython",
    "version": 3
   },
   "file_extension": ".py",
   "mimetype": "text/x-python",
   "name": "python",
   "nbconvert_exporter": "python",
   "pygments_lexer": "ipython3",
   "version": "3.7.4"
  }
 },
 "nbformat": 4,
 "nbformat_minor": 2
}
